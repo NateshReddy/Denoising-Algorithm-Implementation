{
  "nbformat": 4,
  "nbformat_minor": 0,
  "metadata": {
    "colab": {
      "name": "cifar10_win",
      "provenance": [],
      "mount_file_id": "1LfBkjNpDxEyvGzi9E0IMR4uZnP322957",
      "authorship_tag": "ABX9TyOUlYLRJWM6LARUAk5XdBQC",
      "include_colab_link": true
    },
    "kernelspec": {
      "name": "python3",
      "display_name": "Python 3"
    },
    "accelerator": "GPU"
  },
  "cells": [
    {
      "cell_type": "markdown",
      "metadata": {
        "id": "view-in-github",
        "colab_type": "text"
      },
      "source": [
        "<a href=\"https://colab.research.google.com/github/NateshReddy/Denoising-Algorithm-Implementation-/blob/master/cifar10_win.ipynb\" target=\"_parent\"><img src=\"https://colab.research.google.com/assets/colab-badge.svg\" alt=\"Open In Colab\"/></a>"
      ]
    },
    {
      "cell_type": "markdown",
      "metadata": {
        "id": "fdty3vnNDRGO",
        "colab_type": "text"
      },
      "source": [
        "# Wide Inference Network for Image Denoising on Cifar10 dataset"
      ]
    },
    {
      "cell_type": "code",
      "metadata": {
        "id": "zLoB62xzzcJN",
        "colab_type": "code",
        "colab": {
          "base_uri": "https://localhost:8080/",
          "height": 34
        },
        "outputId": "d4cb977a-5fec-4b8f-c0e4-9223d82e4005"
      },
      "source": [
        "import keras\n",
        "from keras.models import load_model\n",
        "from keras.datasets import cifar10\n",
        "from keras.layers import Input, Dense, Conv2D, MaxPooling2D, UpSampling2D, BatchNormalization, Activation\n",
        "from keras.models import Model\n",
        "from keras.callbacks import EarlyStopping, ModelCheckpoint\n",
        "from keras.optimizers import Adam\n",
        "from keras import layers\n",
        "import os\n",
        "import pickle\n",
        "import numpy as np\n",
        "import matplotlib.pyplot as plt"
      ],
      "execution_count": 1,
      "outputs": [
        {
          "output_type": "stream",
          "text": [
            "Using TensorFlow backend.\n"
          ],
          "name": "stderr"
        }
      ]
    },
    {
      "cell_type": "code",
      "metadata": {
        "id": "yw3PiL9V1SsN",
        "colab_type": "code",
        "colab": {}
      },
      "source": [
        "batch_size = 32\n",
        "num_classes = 10\n",
        "epochs = 30\n",
        "saveDir = \"/content/drive/My Drive/denoising task/model3_win\""
      ],
      "execution_count": 2,
      "outputs": []
    },
    {
      "cell_type": "code",
      "metadata": {
        "id": "qu_mRs2mzgo9",
        "colab_type": "code",
        "colab": {
          "base_uri": "https://localhost:8080/",
          "height": 52
        },
        "outputId": "8ddf98d1-5b14-4996-dbc3-c4d9e0a4401e"
      },
      "source": [
        "(train_data_clean, _), (test_data_clean, _) = cifar10.load_data()"
      ],
      "execution_count": 3,
      "outputs": [
        {
          "output_type": "stream",
          "text": [
            "Downloading data from https://www.cs.toronto.edu/~kriz/cifar-10-python.tar.gz\n",
            "170500096/170498071 [==============================] - 6s 0us/step\n"
          ],
          "name": "stdout"
        }
      ]
    },
    {
      "cell_type": "code",
      "metadata": {
        "id": "Dvdr1oZOz59l",
        "colab_type": "code",
        "colab": {}
      },
      "source": [
        "train_data_clean = train_data_clean.astype('float32') / 255.\n",
        "test_data_clean = test_data_clean.astype('float32') / 255."
      ],
      "execution_count": 4,
      "outputs": []
    },
    {
      "cell_type": "markdown",
      "metadata": {
        "id": "BxYZlpc_DWbb",
        "colab_type": "text"
      },
      "source": [
        "## Adding noise"
      ]
    },
    {
      "cell_type": "code",
      "metadata": {
        "id": "gtRx6VRu0fOU",
        "colab_type": "code",
        "colab": {}
      },
      "source": [
        "def add_noise_and_clip_data(data):\n",
        "   noise = np.random.normal(loc=0.0, scale=0.1, size=data.shape)\n",
        "   data = data + noise\n",
        "   data = np.clip(data, 0., 1.)\n",
        "   return data\n",
        "train_data_noisy = add_noise_and_clip_data(train_data_clean)\n",
        "test_data_noisy = add_noise_and_clip_data(test_data_clean)"
      ],
      "execution_count": 5,
      "outputs": []
    },
    {
      "cell_type": "markdown",
      "metadata": {
        "id": "GgLb9Gv4DYjO",
        "colab_type": "text"
      },
      "source": [
        "## Displaying noisy images"
      ]
    },
    {
      "cell_type": "code",
      "metadata": {
        "id": "huofJ-Bz0pTc",
        "colab_type": "code",
        "colab": {
          "base_uri": "https://localhost:8080/",
          "height": 414
        },
        "outputId": "5a53c0be-5935-4a1a-d26d-4b63d35a203c"
      },
      "source": [
        "idx = 4\n",
        "for i in range(2):\n",
        "  plt.subplot(1,2,1)\n",
        "  plt.imshow(train_data_clean[idx])\n",
        "  plt.title('Original image')\n",
        "  plt.subplot(1,2,2)\n",
        "  plt.imshow(train_data_noisy[idx])\n",
        "  plt.title('Image with noise')\n",
        "  plt.show()\n",
        "  idx = idx + 1"
      ],
      "execution_count": 6,
      "outputs": [
        {
          "output_type": "display_data",
          "data": {
            "image/png": "[encoded data removed]",
            "text/plain": [
              "<Figure size 432x288 with 2 Axes>"
            ]
          },
          "metadata": {
            "tags": [],
            "needs_background": "light"
          }
        },
        {
          "output_type": "display_data",
          "data": {
            "image/png": "[encoded data removed]",
            "text/plain": [
              "<Figure size 432x288 with 2 Axes>"
            ]
          },
          "metadata": {
            "tags": [],
            "needs_background": "light"
          }
        }
      ]
    },
    {
      "cell_type": "markdown",
      "metadata": {
        "id": "zTp7S0ZwDgNL",
        "colab_type": "text"
      },
      "source": [
        "## Wide Inference Network"
      ]
    },
    {
      "cell_type": "code",
      "metadata": {
        "id": "63NidlPVTzAk",
        "colab_type": "code",
        "colab": {}
      },
      "source": [
        "input_img = Input(shape=(32, 32, 3))\n",
        "x = Conv2D(64, (7, 7), padding='same')(input_img)\n",
        "x = BatchNormalization()(x)\n",
        "x = Activation('relu')(x)\n",
        "    \n",
        "for i in range(3):\n",
        "    x = Conv2D(64, (7, 7), padding='same')(x)\n",
        "    x = BatchNormalization()(x)\n",
        "    x = Activation('relu')(x)\n",
        "    \n",
        "x = Conv2D(3, (7, 7), padding='same')(x)\n",
        "x = BatchNormalization()(x)\n",
        "output_img = layers.add([x, input_img])"
      ],
      "execution_count": null,
      "outputs": []
    },
    {
      "cell_type": "code",
      "metadata": {
        "id": "-_X_z2l3T5Rf",
        "colab_type": "code",
        "colab": {}
      },
      "source": [
        "model = Model(input_img, output_img)\n",
        "model.compile(optimizer='adam', loss='mean_squared_error')"
      ],
      "execution_count": null,
      "outputs": []
    },
    {
      "cell_type": "code",
      "metadata": {
        "id": "PKYhiL6xUK2t",
        "colab_type": "code",
        "colab": {}
      },
      "source": [
        "es_cb = EarlyStopping(monitor='val_loss', patience=2, verbose=1, mode='auto')\n",
        "chkpt = saveDir + 'AutoEncoder_Cifar10_win5rb_weights.{epoch:02d}-{loss:.2f}-{val_loss:.2f}.hdf5'\n",
        "cp_cb = ModelCheckpoint(filepath = chkpt, monitor='val_loss', verbose=1, save_best_only=True, mode='auto')"
      ],
      "execution_count": null,
      "outputs": []
    },
    {
      "cell_type": "markdown",
      "metadata": {
        "id": "zrmH2XfdDiBf",
        "colab_type": "text"
      },
      "source": [
        "# Training\n"
      ]
    },
    {
      "cell_type": "code",
      "metadata": {
        "id": "bKEKPrVMU30a",
        "colab_type": "code",
        "colab": {
          "base_uri": "https://localhost:8080/",
          "height": 712
        },
        "outputId": "e22bcb0e-d23b-4fad-8eb4-d40e0231c896"
      },
      "source": [
        "history = model.fit(train_data_noisy, train_data_clean,\n",
        "                    batch_size=batch_size,\n",
        "                    epochs=epochs,\n",
        "                    verbose=1,\n",
        "                    validation_data=(test_data_noisy, test_data_clean),\n",
        "                    callbacks=[es_cb, cp_cb],\n",
        "                    shuffle=True)"
      ],
      "execution_count": null,
      "outputs": [
        {
          "output_type": "stream",
          "text": [
            "Train on 50000 samples, validate on 10000 samples\n",
            "Epoch 1/30\n",
            "50000/50000 [==============================] - 129s 3ms/step - loss: 0.2013 - val_loss: 0.0047\n",
            "\n",
            "Epoch 00001: val_loss improved from inf to 0.00474, saving model to /content/drive/My Drive/denoising task/model3_winAutoEncoder_Cifar10_win5rb_weights.01-0.20-0.00.hdf5\n",
            "Epoch 2/30\n",
            "50000/50000 [==============================] - 121s 2ms/step - loss: 0.0018 - val_loss: 0.0016\n",
            "\n",
            "Epoch 00002: val_loss improved from 0.00474 to 0.00156, saving model to /content/drive/My Drive/denoising task/model3_winAutoEncoder_Cifar10_win5rb_weights.02-0.00-0.00.hdf5\n",
            "Epoch 3/30\n",
            "50000/50000 [==============================] - 121s 2ms/step - loss: 0.0015 - val_loss: 0.0015\n",
            "\n",
            "Epoch 00003: val_loss improved from 0.00156 to 0.00155, saving model to /content/drive/My Drive/denoising task/model3_winAutoEncoder_Cifar10_win5rb_weights.03-0.00-0.00.hdf5\n",
            "Epoch 4/30\n",
            "50000/50000 [==============================] - 121s 2ms/step - loss: 0.0014 - val_loss: 0.0015\n",
            "\n",
            "Epoch 00004: val_loss improved from 0.00155 to 0.00147, saving model to /content/drive/My Drive/denoising task/model3_winAutoEncoder_Cifar10_win5rb_weights.04-0.00-0.00.hdf5\n",
            "Epoch 5/30\n",
            "50000/50000 [==============================] - 121s 2ms/step - loss: 0.0014 - val_loss: 0.0015\n",
            "\n",
            "Epoch 00005: val_loss improved from 0.00147 to 0.00146, saving model to /content/drive/My Drive/denoising task/model3_winAutoEncoder_Cifar10_win5rb_weights.05-0.00-0.00.hdf5\n",
            "Epoch 6/30\n",
            "50000/50000 [==============================] - 121s 2ms/step - loss: 0.0014 - val_loss: 0.0015\n",
            "\n",
            "Epoch 00006: val_loss improved from 0.00146 to 0.00146, saving model to /content/drive/My Drive/denoising task/model3_winAutoEncoder_Cifar10_win5rb_weights.06-0.00-0.00.hdf5\n",
            "Epoch 7/30\n",
            "50000/50000 [==============================] - 121s 2ms/step - loss: 0.0014 - val_loss: 0.0014\n",
            "\n",
            "Epoch 00007: val_loss improved from 0.00146 to 0.00143, saving model to /content/drive/My Drive/denoising task/model3_winAutoEncoder_Cifar10_win5rb_weights.07-0.00-0.00.hdf5\n",
            "Epoch 8/30\n",
            "50000/50000 [==============================] - 120s 2ms/step - loss: 0.0014 - val_loss: 0.0015\n",
            "\n",
            "Epoch 00008: val_loss did not improve from 0.00143\n",
            "Epoch 9/30\n",
            "50000/50000 [==============================] - 121s 2ms/step - loss: 0.0014 - val_loss: 0.0014\n",
            "\n",
            "Epoch 00009: val_loss did not improve from 0.00143\n",
            "Epoch 00009: early stopping\n"
          ],
          "name": "stdout"
        }
      ]
    },
    {
      "cell_type": "code",
      "metadata": {
        "id": "5HdB0H1DU8RM",
        "colab_type": "code",
        "colab": {}
      },
      "source": [
        "dae = load_model('/content/drive/My Drive/denoising task/model3_win/model3_winAutoEncoder_Cifar10_win5rb_weights.07-0.00-0.00.hdf5')"
      ],
      "execution_count": 7,
      "outputs": []
    },
    {
      "cell_type": "code",
      "metadata": {
        "id": "r9718690U-5P",
        "colab_type": "code",
        "colab": {}
      },
      "source": [
        "test_data_denoised = dae.predict(test_data_noisy)"
      ],
      "execution_count": 8,
      "outputs": []
    },
    {
      "cell_type": "markdown",
      "metadata": {
        "id": "CactY4piDmVn",
        "colab_type": "text"
      },
      "source": [
        "## Visualize original image, noisy image and denoised image"
      ]
    },
    {
      "cell_type": "code",
      "metadata": {
        "id": "-F7kdV5MVDyP",
        "colab_type": "code",
        "colab": {
          "base_uri": "https://localhost:8080/",
          "height": 306
        },
        "outputId": "08abb226-9e79-4f54-ee5d-b6e3e233a826"
      },
      "source": [
        "idx = 4\n",
        "for i in range(2):\n",
        "  plt.subplot(1,3,1)\n",
        "  plt.imshow(test_data_clean[idx])\n",
        "  plt.title('original')\n",
        "  plt.subplot(1,3,2)\n",
        "  plt.imshow(test_data_noisy[idx])\n",
        "  plt.title('noisy')\n",
        "  plt.subplot(1,3,3)\n",
        "  plt.imshow(test_data_denoised[idx])\n",
        "  plt.title('denoised')\n",
        "  plt.show()\n",
        "  idx = idx + 1"
      ],
      "execution_count": 9,
      "outputs": [
        {
          "output_type": "display_data",
          "data": {
            "image/png": "[encoded data removed]",
            "text/plain": [
              "<Figure size 432x288 with 3 Axes>"
            ]
          },
          "metadata": {
            "tags": [],
            "needs_background": "light"
          }
        },
        {
          "output_type": "display_data",
          "data": {
            "image/png": "[encoded data removed]",
            "text/plain": [
              "<Figure size 432x288 with 3 Axes>"
            ]
          },
          "metadata": {
            "tags": [],
            "needs_background": "light"
          }
        }
      ]
    },
    {
      "cell_type": "markdown",
      "metadata": {
        "id": "LRnV0CQ4Dofh",
        "colab_type": "text"
      },
      "source": [
        "## Evaluation with the test dataset"
      ]
    },
    {
      "cell_type": "markdown",
      "metadata": {
        "id": "-EkqQ2jEAcZP",
        "colab_type": "text"
      },
      "source": [
        "We have calculated the PSNR and SSIM of the whole CIFAR10 test set. "
      ]
    },
    {
      "cell_type": "code",
      "metadata": {
        "id": "8boi_PWKaR9v",
        "colab_type": "code",
        "colab": {
          "base_uri": "https://localhost:8080/",
          "height": 52
        },
        "outputId": "15efc530-bece-4c59-fba0-d6046ff2cf83"
      },
      "source": [
        "from skimage import metrics\n",
        "psnr = metrics.peak_signal_noise_ratio(test_data_clean,test_data_denoised)\n",
        "ssim = metrics.structural_similarity(test_data_clean,test_data_denoised,multichannel=True)\n",
        "print(\"PSNR:\",psnr,\"\\nSSIM:\",ssim)"
      ],
      "execution_count": 10,
      "outputs": [
        {
          "output_type": "stream",
          "text": [
            "PSNR: 28.44936921013204 \n",
            "SSIM: 0.9848844798406939\n"
          ],
          "name": "stdout"
        }
      ]
    },
    {
      "cell_type": "code",
      "metadata": {
        "id": "g438WrWtAhJg",
        "colab_type": "code",
        "colab": {}
      },
      "source": [
        ""
      ],
      "execution_count": null,
      "outputs": []
    }
  ]
}