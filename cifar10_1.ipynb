{
  "nbformat": 4,
  "nbformat_minor": 0,
  "metadata": {
    "colab": {
      "name": "cifar10_1.ipynb",
      "provenance": [],
      "mount_file_id": "188jQ0fXOZ0AlqoGf7XY6EDZ47UlJG-ck",
      "authorship_tag": "ABX9TyOZdzFOAxU9OEIZDRKdWen+",
      "include_colab_link": true
    },
    "kernelspec": {
      "name": "python3",
      "display_name": "Python 3"
    }
  },
  "cells": [
    {
      "cell_type": "markdown",
      "metadata": {
        "id": "view-in-github",
        "colab_type": "text"
      },
      "source": [
        "<a href=\"https://colab.research.google.com/github/NateshReddy/Denoising-Algorithm-Implementation-/blob/master/cifar10_1.ipynb\" target=\"_parent\"><img src=\"https://colab.research.google.com/assets/colab-badge.svg\" alt=\"Open In Colab\"/></a>"
      ]
    },
    {
      "cell_type": "code",
      "metadata": {
        "id": "1NAOmEY9lJP7",
        "colab_type": "code",
        "colab": {}
      },
      "source": [
        "import numpy as np\n",
        "import matplotlib.pyplot as plt\n",
        "from tensorflow.keras.layers import Conv2D, Input, Dense, Reshape, Conv2DTranspose,Activation, BatchNormalization, ReLU, Concatenate\n",
        "from tensorflow.keras.models import Model\n",
        "from tensorflow.keras.callbacks import ModelCheckpoint\n",
        "from tensorflow.keras.datasets import cifar10"
      ],
      "execution_count": 3,
      "outputs": []
    },
    {
      "cell_type": "code",
      "metadata": {
        "id": "247Q70hylREc",
        "colab_type": "code",
        "colab": {
          "base_uri": "https://localhost:8080/",
          "height": 52
        },
        "outputId": "d5cf29d6-d44e-4c00-dff8-40e10cc88806"
      },
      "source": [
        "(train_data_clean, _), (test_data_clean, _) = cifar100.load_data(label_mode='fine')"
      ],
      "execution_count": 4,
      "outputs": [
        {
          "output_type": "stream",
          "text": [
            "Downloading data from https://www.cs.toronto.edu/~kriz/cifar-100-python.tar.gz\n",
            "169009152/169001437 [==============================] - 2s 0us/step\n"
          ],
          "name": "stdout"
        }
      ]
    },
    {
      "cell_type": "code",
      "metadata": {
        "id": "ALxAscN-lo9d",
        "colab_type": "code",
        "colab": {}
      },
      "source": [
        "train_data_clean = train_data_clean.astype('float32') / 255.\n",
        "test_data_clean = test_data_clean.astype('float32') / 255."
      ],
      "execution_count": 5,
      "outputs": []
    },
    {
      "cell_type": "code",
      "metadata": {
        "id": "NzWrzP5Dlu2y",
        "colab_type": "code",
        "colab": {}
      },
      "source": [
        "def add_noise_and_clip_data(data):\n",
        "   noise = np.random.normal(loc=0.0, scale=0.1, size=data.shape)\n",
        "   data = data + noise\n",
        "   data = np.clip(data, 0., 1.)\n",
        "   return data\n",
        "train_data_noisy = add_noise_and_clip_data(train_data_clean)\n",
        "test_data_noisy = add_noise_and_clip_data(test_data_clean)"
      ],
      "execution_count": 8,
      "outputs": []
    },
    {
      "cell_type": "code",
      "metadata": {
        "id": "KjYE-vFQlzlj",
        "colab_type": "code",
        "colab": {
          "base_uri": "https://localhost:8080/",
          "height": 215
        },
        "outputId": "2559f2d1-5213-4b40-ea33-c233b98a0a36"
      },
      "source": [
        "idx = 10\n",
        "plt.subplot(1,2,1)\n",
        "plt.imshow(train_data_clean[idx])\n",
        "plt.title('Original image')\n",
        "plt.subplot(1,2,2)\n",
        "plt.imshow(train_data_noisy[idx])\n",
        "plt.title('Image with noise')\n",
        "plt.show()"
      ],
      "execution_count": 13,
      "outputs": [
        {
          "output_type": "display_data",
          "data": {
            "image/png": "[encoded data removed]",
            "text/plain": [
              "<Figure size 432x288 with 2 Axes>"
            ]
          },
          "metadata": {
            "tags": [],
            "needs_background": "light"
          }
        }
      ]
    },
    {
      "cell_type": "code",
      "metadata": {
        "id": "4RNWhOVRl-uW",
        "colab_type": "code",
        "colab": {}
      },
      "source": [
        "def conv_block(x, filters, kernel_size, strides=2):\n",
        "   x = Conv2D(filters=filters,\n",
        "              kernel_size=kernel_size,\n",
        "              strides=strides,\n",
        "              padding='same')(x)\n",
        "   x = BatchNormalization()(x)\n",
        "   x = ReLU()(x)\n",
        "   return x\n",
        "def deconv_block(x, filters, kernel_size):\n",
        "   x = Conv2DTranspose(filters=filters,\n",
        "                       kernel_size=kernel_size,\n",
        "                       strides=2,\n",
        "                       padding='same')(x)\n",
        "   x = BatchNormalization()(x)\n",
        "   x = ReLU()(x)\n",
        "   return x"
      ],
      "execution_count": 15,
      "outputs": []
    },
    {
      "cell_type": "code",
      "metadata": {
        "id": "-91mp-qgmJ7H",
        "colab_type": "code",
        "colab": {}
      },
      "source": [
        "def denoising_autoencoder():\n",
        "   dae_inputs = Input(shape=(32, 32, 3), name='dae_input')\n",
        "   conv_block1 = conv_block(dae_inputs, 32, 3)\n",
        "   conv_block2 = conv_block(conv_block1, 64, 3)\n",
        "   conv_block3 = conv_block(conv_block2, 128, 3)\n",
        "   conv_block4 = conv_block(conv_block3, 256, 3)\n",
        "   conv_block5 = conv_block(conv_block4, 256, 3, 1)\n",
        "\n",
        "   deconv_block1 = deconv_block(conv_block5, 256, 3)\n",
        "   merge1 = Concatenate()([deconv_block1, conv_block3])\n",
        "   deconv_block2 = deconv_block(merge1, 128, 3)\n",
        "   merge2 = Concatenate()([deconv_block2, conv_block2])\n",
        "   deconv_block3 = deconv_block(merge2, 64, 3)\n",
        "   merge3 = Concatenate()([deconv_block3, conv_block1])\n",
        "   deconv_block4 = deconv_block(merge3, 32, 3)\n",
        "\n",
        "   final_deconv = Conv2DTranspose(filters=3,\n",
        "                       kernel_size=3,\n",
        "                       padding='same')(deconv_block4)\n",
        "\n",
        "   dae_outputs = Activation('sigmoid', name='dae_output')(final_deconv)\n",
        "  \n",
        "   return Model(dae_inputs, dae_outputs, name='dae')"
      ],
      "execution_count": 23,
      "outputs": []
    },
    {
      "cell_type": "code",
      "metadata": {
        "id": "QUUC0h8hmPE5",
        "colab_type": "code",
        "colab": {
          "base_uri": "https://localhost:8080/",
          "height": 1000
        },
        "outputId": "af772398-012b-4e60-c175-41728b5fc6e9"
      },
      "source": [
        "dae = denoising_autoencoder()\n",
        "dae.compile(loss='mse', optimizer='adam')\n",
        "\n",
        "checkpoint = ModelCheckpoint('best_model.h5', verbose=1, save_best_only=True, save_weights_only=True)\n",
        "\n",
        "dae.fit(train_data_noisy,\n",
        "       train_data_clean,\n",
        "       validation_data=(test_data_noisy, test_data_clean),\n",
        "       epochs=40,\n",
        "       batch_size=128,\n",
        "       callbacks=[checkpoint])"
      ],
      "execution_count": 24,
      "outputs": [
        {
          "output_type": "stream",
          "text": [
            "Epoch 1/40\n",
            "391/391 [==============================] - ETA: 0s - loss: 0.0052\n",
            "Epoch 00001: val_loss improved from inf to 0.00527, saving model to best_model.h5\n",
            "391/391 [==============================] - 485s 1s/step - loss: 0.0052 - val_loss: 0.0053\n",
            "Epoch 2/40\n",
            "391/391 [==============================] - ETA: 0s - loss: 0.0026\n",
            "Epoch 00002: val_loss improved from 0.00527 to 0.00256, saving model to best_model.h5\n",
            "391/391 [==============================] - 480s 1s/step - loss: 0.0026 - val_loss: 0.0026\n",
            "Epoch 3/40\n",
            "391/391 [==============================] - ETA: 0s - loss: 0.0024\n",
            "Epoch 00003: val_loss improved from 0.00256 to 0.00231, saving model to best_model.h5\n",
            "391/391 [==============================] - 482s 1s/step - loss: 0.0024 - val_loss: 0.0023\n",
            "Epoch 4/40\n",
            "391/391 [==============================] - ETA: 0s - loss: 0.0022\n",
            "Epoch 00004: val_loss improved from 0.00231 to 0.00212, saving model to best_model.h5\n",
            "391/391 [==============================] - 477s 1s/step - loss: 0.0022 - val_loss: 0.0021\n",
            "Epoch 5/40\n",
            "391/391 [==============================] - ETA: 0s - loss: 0.0022\n",
            "Epoch 00005: val_loss improved from 0.00212 to 0.00205, saving model to best_model.h5\n",
            "391/391 [==============================] - 480s 1s/step - loss: 0.0022 - val_loss: 0.0021\n",
            "Epoch 6/40\n",
            "391/391 [==============================] - ETA: 0s - loss: 0.0021\n",
            "Epoch 00006: val_loss improved from 0.00205 to 0.00199, saving model to best_model.h5\n",
            "391/391 [==============================] - 477s 1s/step - loss: 0.0021 - val_loss: 0.0020\n",
            "Epoch 7/40\n",
            "391/391 [==============================] - ETA: 0s - loss: 0.0021\n",
            "Epoch 00007: val_loss did not improve from 0.00199\n",
            "391/391 [==============================] - 478s 1s/step - loss: 0.0021 - val_loss: 0.0026\n",
            "Epoch 8/40\n",
            "391/391 [==============================] - ETA: 0s - loss: 0.0020\n",
            "Epoch 00008: val_loss improved from 0.00199 to 0.00183, saving model to best_model.h5\n",
            "391/391 [==============================] - 478s 1s/step - loss: 0.0020 - val_loss: 0.0018\n",
            "Epoch 9/40\n",
            "391/391 [==============================] - ETA: 0s - loss: 0.0020\n",
            "Epoch 00009: val_loss did not improve from 0.00183\n",
            "391/391 [==============================] - 476s 1s/step - loss: 0.0020 - val_loss: 0.0018\n",
            "Epoch 10/40\n",
            "391/391 [==============================] - ETA: 0s - loss: 0.0019\n",
            "Epoch 00010: val_loss did not improve from 0.00183\n",
            "391/391 [==============================] - 478s 1s/step - loss: 0.0019 - val_loss: 0.0019\n",
            "Epoch 11/40\n",
            "391/391 [==============================] - ETA: 0s - loss: 0.0019\n",
            "Epoch 00011: val_loss improved from 0.00183 to 0.00181, saving model to best_model.h5\n",
            "391/391 [==============================] - 478s 1s/step - loss: 0.0019 - val_loss: 0.0018\n",
            "Epoch 12/40\n",
            "391/391 [==============================] - ETA: 0s - loss: 0.0018\n",
            "Epoch 00012: val_loss did not improve from 0.00181\n",
            "391/391 [==============================] - 478s 1s/step - loss: 0.0018 - val_loss: 0.0020\n",
            "Epoch 13/40\n",
            "391/391 [==============================] - ETA: 0s - loss: 0.0018\n",
            "Epoch 00013: val_loss improved from 0.00181 to 0.00173, saving model to best_model.h5\n",
            "391/391 [==============================] - 476s 1s/step - loss: 0.0018 - val_loss: 0.0017\n",
            "Epoch 14/40\n",
            "391/391 [==============================] - ETA: 0s - loss: 0.0018\n",
            "Epoch 00014: val_loss did not improve from 0.00173\n",
            "391/391 [==============================] - 476s 1s/step - loss: 0.0018 - val_loss: 0.0018\n",
            "Epoch 15/40\n",
            "391/391 [==============================] - ETA: 0s - loss: 0.0018\n",
            "Epoch 00015: val_loss did not improve from 0.00173\n",
            "391/391 [==============================] - 477s 1s/step - loss: 0.0018 - val_loss: 0.0018\n",
            "Epoch 16/40\n",
            "391/391 [==============================] - ETA: 0s - loss: 0.0017\n",
            "Epoch 00016: val_loss improved from 0.00173 to 0.00168, saving model to best_model.h5\n",
            "391/391 [==============================] - 477s 1s/step - loss: 0.0017 - val_loss: 0.0017\n",
            "Epoch 17/40\n",
            "391/391 [==============================] - ETA: 0s - loss: 0.0017\n",
            "Epoch 00017: val_loss did not improve from 0.00168\n",
            "391/391 [==============================] - 477s 1s/step - loss: 0.0017 - val_loss: 0.0018\n",
            "Epoch 18/40\n",
            "391/391 [==============================] - ETA: 0s - loss: 0.0017\n",
            "Epoch 00018: val_loss improved from 0.00168 to 0.00168, saving model to best_model.h5\n",
            "391/391 [==============================] - 441s 1s/step - loss: 0.0017 - val_loss: 0.0017\n",
            "Epoch 19/40\n",
            "391/391 [==============================] - ETA: 0s - loss: 0.0017\n",
            "Epoch 00019: val_loss improved from 0.00168 to 0.00165, saving model to best_model.h5\n",
            "391/391 [==============================] - 399s 1s/step - loss: 0.0017 - val_loss: 0.0017\n",
            "Epoch 20/40\n",
            "391/391 [==============================] - ETA: 0s - loss: 0.0017\n",
            "Epoch 00020: val_loss did not improve from 0.00165\n",
            "391/391 [==============================] - 397s 1s/step - loss: 0.0017 - val_loss: 0.0017\n",
            "Epoch 21/40\n",
            "391/391 [==============================] - ETA: 0s - loss: 0.0017\n",
            "Epoch 00021: val_loss did not improve from 0.00165\n",
            "391/391 [==============================] - 400s 1s/step - loss: 0.0017 - val_loss: 0.0017\n",
            "Epoch 22/40\n",
            "391/391 [==============================] - ETA: 0s - loss: 0.0017\n",
            "Epoch 00022: val_loss improved from 0.00165 to 0.00164, saving model to best_model.h5\n",
            "391/391 [==============================] - 444s 1s/step - loss: 0.0017 - val_loss: 0.0016\n",
            "Epoch 23/40\n",
            "391/391 [==============================] - ETA: 0s - loss: 0.0016\n",
            "Epoch 00023: val_loss did not improve from 0.00164\n",
            "391/391 [==============================] - 410s 1s/step - loss: 0.0016 - val_loss: 0.0017\n",
            "Epoch 24/40\n",
            "391/391 [==============================] - ETA: 0s - loss: 0.0016\n",
            "Epoch 00024: val_loss did not improve from 0.00164\n",
            "391/391 [==============================] - 375s 960ms/step - loss: 0.0016 - val_loss: 0.0017\n",
            "Epoch 25/40\n",
            "391/391 [==============================] - ETA: 0s - loss: 0.0016\n",
            "Epoch 00025: val_loss improved from 0.00164 to 0.00159, saving model to best_model.h5\n",
            "391/391 [==============================] - 373s 955ms/step - loss: 0.0016 - val_loss: 0.0016\n",
            "Epoch 26/40\n",
            "391/391 [==============================] - ETA: 0s - loss: 0.0016\n",
            "Epoch 00026: val_loss improved from 0.00159 to 0.00159, saving model to best_model.h5\n",
            "391/391 [==============================] - 377s 964ms/step - loss: 0.0016 - val_loss: 0.0016\n",
            "Epoch 27/40\n",
            "391/391 [==============================] - ETA: 0s - loss: 0.0016\n",
            "Epoch 00027: val_loss improved from 0.00159 to 0.00158, saving model to best_model.h5\n",
            "391/391 [==============================] - 455s 1s/step - loss: 0.0016 - val_loss: 0.0016\n",
            "Epoch 28/40\n",
            "391/391 [==============================] - ETA: 0s - loss: 0.0016\n",
            "Epoch 00028: val_loss did not improve from 0.00158\n",
            "391/391 [==============================] - 448s 1s/step - loss: 0.0016 - val_loss: 0.0017\n",
            "Epoch 29/40\n",
            "391/391 [==============================] - ETA: 0s - loss: 0.0016\n",
            "Epoch 00029: val_loss did not improve from 0.00158\n",
            "391/391 [==============================] - 372s 953ms/step - loss: 0.0016 - val_loss: 0.0016\n",
            "Epoch 30/40\n",
            "391/391 [==============================] - ETA: 0s - loss: 0.0016\n",
            "Epoch 00030: val_loss improved from 0.00158 to 0.00157, saving model to best_model.h5\n",
            "391/391 [==============================] - 387s 989ms/step - loss: 0.0016 - val_loss: 0.0016\n",
            "Epoch 31/40\n",
            "391/391 [==============================] - ETA: 0s - loss: 0.0016\n",
            "Epoch 00031: val_loss did not improve from 0.00157\n",
            "391/391 [==============================] - 398s 1s/step - loss: 0.0016 - val_loss: 0.0016\n",
            "Epoch 32/40\n",
            "391/391 [==============================] - ETA: 0s - loss: 0.0016\n",
            "Epoch 00032: val_loss improved from 0.00157 to 0.00155, saving model to best_model.h5\n",
            "391/391 [==============================] - 469s 1s/step - loss: 0.0016 - val_loss: 0.0016\n",
            "Epoch 33/40\n",
            "391/391 [==============================] - ETA: 0s - loss: 0.0016\n",
            "Epoch 00033: val_loss did not improve from 0.00155\n",
            "391/391 [==============================] - 465s 1s/step - loss: 0.0016 - val_loss: 0.0016\n",
            "Epoch 34/40\n",
            "391/391 [==============================] - ETA: 0s - loss: 0.0015\n",
            "Epoch 00034: val_loss improved from 0.00155 to 0.00155, saving model to best_model.h5\n",
            "391/391 [==============================] - 380s 972ms/step - loss: 0.0015 - val_loss: 0.0015\n",
            "Epoch 35/40\n",
            "391/391 [==============================] - ETA: 0s - loss: 0.0015\n",
            "Epoch 00035: val_loss did not improve from 0.00155\n",
            "391/391 [==============================] - 382s 976ms/step - loss: 0.0015 - val_loss: 0.0016\n",
            "Epoch 36/40\n",
            "391/391 [==============================] - ETA: 0s - loss: 0.0015\n",
            "Epoch 00036: val_loss improved from 0.00155 to 0.00154, saving model to best_model.h5\n",
            "391/391 [==============================] - 387s 989ms/step - loss: 0.0015 - val_loss: 0.0015\n",
            "Epoch 37/40\n",
            "391/391 [==============================] - ETA: 0s - loss: 0.0015\n",
            "Epoch 00037: val_loss did not improve from 0.00154\n",
            "391/391 [==============================] - 383s 979ms/step - loss: 0.0015 - val_loss: 0.0016\n",
            "Epoch 38/40\n",
            "391/391 [==============================] - ETA: 0s - loss: 0.0015\n",
            "Epoch 00038: val_loss did not improve from 0.00154\n",
            "391/391 [==============================] - 451s 1s/step - loss: 0.0015 - val_loss: 0.0016\n",
            "Epoch 39/40\n",
            "391/391 [==============================] - ETA: 0s - loss: 0.0015\n",
            "Epoch 00039: val_loss improved from 0.00154 to 0.00154, saving model to best_model.h5\n",
            "391/391 [==============================] - 471s 1s/step - loss: 0.0015 - val_loss: 0.0015\n",
            "Epoch 40/40\n",
            "391/391 [==============================] - ETA: 0s - loss: 0.0015\n",
            "Epoch 00040: val_loss did not improve from 0.00154\n",
            "391/391 [==============================] - 395s 1s/step - loss: 0.0015 - val_loss: 0.0016\n"
          ],
          "name": "stdout"
        },
        {
          "output_type": "execute_result",
          "data": {
            "text/plain": [
              "<tensorflow.python.keras.callbacks.History at 0x7f63b683dc88>"
            ]
          },
          "metadata": {
            "tags": []
          },
          "execution_count": 24
        }
      ]
    },
    {
      "cell_type": "code",
      "metadata": {
        "id": "SaakfuN6mZKQ",
        "colab_type": "code",
        "colab": {
          "base_uri": "https://localhost:8080/",
          "height": 162
        },
        "outputId": "4e920278-cba4-421e-e3bd-66c12ef02d68"
      },
      "source": [
        "dae.load_weights('best_model.h5')\n",
        "test_data_denoised = dae.predict(test_data_noisy)\n",
        "idx = 4\n",
        "plt.subplot(1,3,1)\n",
        "plt.imshow(test_data_clean[idx])\n",
        "plt.title('original')\n",
        "plt.subplot(1,3,2)\n",
        "plt.imshow(test_data_noisy[idx])\n",
        "plt.title('noisy')\n",
        "plt.subplot(1,3,3)\n",
        "plt.imshow(test_data_denoised[idx])\n",
        "plt.title('denoised')\n",
        "plt.show()"
      ],
      "execution_count": 25,
      "outputs": [
        {
          "output_type": "display_data",
          "data": {
            "image/png": "[encoded data removed]",
            "text/plain": [
              "<Figure size 432x288 with 3 Axes>"
            ]
          },
          "metadata": {
            "tags": [],
            "needs_background": "light"
          }
        }
      ]
    },
    {
      "cell_type": "code",
      "metadata": {
        "id": "_8MmoxkEqURi",
        "colab_type": "code",
        "colab": {}
      },
      "source": [
        ""
      ],
      "execution_count": null,
      "outputs": []
    }
  ]
}